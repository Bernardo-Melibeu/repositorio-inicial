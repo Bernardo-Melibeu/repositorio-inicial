{
  "cells": [
    {
      "cell_type": "markdown",
      "source": [
        "# Inicialização"
      ],
      "metadata": {
        "id": "bwTNGw1UH-Rt"
      }
    },
    {
      "cell_type": "code",
      "execution_count": 1,
      "metadata": {
        "id": "r6yGCBloMc4q"
      },
      "outputs": [],
      "source": [
        "URL=\"https://pokeapi.co/api/v2/\"\n",
        "BUSCA=\"pokemon-species/\"\n",
        "BUSCA2=\"pokemon/\"\n",
        "BUSCA4=\"type/\"\n",
        "BUSCA5=\"move/\"\n",
        "ALCANCE=151\n",
        "import requests\n",
        "import json\n",
        "import math\n",
        "import random\n",
        "ALIADO=\"Digite o nome do seu pokemon: \"\n",
        "INIMIGO=\"Digite o nome do pokemon inimigo: \"\n",
        "TESTE=100000\n",
        "FUGA=0.7\n",
        "\n",
        "#peso->kg\n",
        "#altura->cm"
      ]
    },
    {
      "cell_type": "markdown",
      "source": [
        "# FUNÇÕES"
      ],
      "metadata": {
        "id": "WJp-SYlhH3nq"
      }
    },
    {
      "cell_type": "code",
      "source": [
        "def faz_dex(pokemon_dic,pokemon_dic2,cont):\n",
        "  lista_egg_group=[]\n",
        "  lista_tipos=[]\n",
        "  dicio={}\n",
        "  if(pokemon_dic[cont][\"evolves_from_species\"]==None):\n",
        "    pre_evo=None\n",
        "  else:\n",
        "    pre_evo=(pokemon_dic[cont][\"evolves_from_species\"][\"name\"])\n",
        "  for i in range(len(pokemon_dic[cont][\"egg_groups\"])):\n",
        "    lista_egg_group.append(pokemon_dic[cont][\"egg_groups\"][i][\"name\"])\n",
        "  for i in range(len(pokemon_dic2[cont][\"types\"])):\n",
        "    lista_tipos.append(pokemon_dic2[cont][\"types\"][i][\"type\"][\"name\"])\n",
        "  dicio={\"Nome\":pokemon_dic[cont][\"name\"].upper(),\"tipos\":lista_tipos,\"Genus\":pokemon_dic[cont][\"genera\"][7][\"genus\"],\"Cor\":pokemon_dic[cont][\"color\"][\"name\"],\"Texto\":pokemon_dic[cont][\"flavor_text_entries\"][1][\"flavor_text\"],\"pre-evolução\":pre_evo,\"habitat\":pokemon_dic[cont][\"habitat\"][\"name\"],\"lendario\":pokemon_dic[cont][\"is_legendary\"],\"forma\":pokemon_dic[cont][\"shape\"][\"name\"],\"Grupo de Ovos\":lista_egg_group,\"Altura\":pokemon_dic2[cont][\"height\"]*10,\"Peso\":pokemon_dic2[cont][\"weight\"]*0.1,\"taxa de captura\":pokemon_dic[cont][\"capture_rate\"],\"atributos\":{\"Vida\":pokemon_dic2[cont][\"stats\"][0][\"base_stat\"],\n",
        "\"Ataque\":pokemon_dic2[cont][\"stats\"][1][\"base_stat\"],\n",
        "\"Defesa\":pokemon_dic2[cont][\"stats\"][2][\"base_stat\"],\n",
        "\"Ataque especial\":pokemon_dic2[cont][\"stats\"][3][\"base_stat\"],\n",
        "\"Defesa especial\":pokemon_dic2[cont][\"stats\"][4][\"base_stat\"],\n",
        "\"Velocidade\":pokemon_dic2[cont][\"stats\"][5][\"base_stat\"]}}    \n",
        "  return dicio"
      ],
      "metadata": {
        "id": "jS02QjpC30EW"
      },
      "execution_count": 67,
      "outputs": []
    },
    {
      "cell_type": "code",
      "execution_count": 68,
      "metadata": {
        "id": "OOrYAASsMjj4"
      },
      "outputs": [],
      "source": [
        "def grava_json(arquivo,link=\"teste.json\"):\n",
        "  with open(link,\"a\") as f:\n",
        "    json.dump(arquivo,f, indent=4)"
      ]
    },
    {
      "cell_type": "code",
      "execution_count": 69,
      "metadata": {
        "id": "e3opDFAPMjma"
      },
      "outputs": [],
      "source": [
        "def requesta_a_festa(link):\n",
        "  entrada=requests.get(link).json()\n",
        "  return entrada"
      ]
    },
    {
      "cell_type": "code",
      "source": [
        "def busca_poke(pokemon,poke_dex):\n",
        "  for i in poke_dex:\n",
        "    if(poke_dex[i].get(\"Nome\")==pokemon):\n",
        "      return i\n",
        "  print(\"Pokemon invalido\")\n",
        "  return -1"
      ],
      "metadata": {
        "id": "UrRveMU54Z83"
      },
      "execution_count": 70,
      "outputs": []
    },
    {
      "cell_type": "code",
      "source": [
        "def cria_poke(MSG):\n",
        "  id=-1\n",
        "  while(id<0):\n",
        "    pokemon=input(MSG).upper()\n",
        "    id=busca_poke(pokemon,poke_dex)\n",
        "  pokemon=poke_dex[id]\n",
        "  return pokemon\n",
        "# print(pokemon)"
      ],
      "metadata": {
        "id": "1sqK2jirZzR8"
      },
      "execution_count": 71,
      "outputs": []
    },
    {
      "cell_type": "code",
      "source": [
        "def busca_atq(atq,pokemon):\n",
        "  dicio={}\n",
        "  dicio=requesta_a_festa(URL+BUSCA5+atq)\n",
        "  for i in dicio[\"learned_by_pokemon\"]:\n",
        "    if(i[\"name\"].upper()==pokemon[\"Nome\"]):\n",
        "      return dicio\n",
        "  print(\"Ataque invalido\")\n",
        "  return None "
      ],
      "metadata": {
        "id": "i4HP1iZn-Oz_"
      },
      "execution_count": 72,
      "outputs": []
    },
    {
      "cell_type": "code",
      "source": [
        "def cria_atq(pokemon):\n",
        "  atq=None\n",
        "  while(atq==None):\n",
        "    atq=input(\"digite o nome do seu ataque: \").lower()\n",
        "    atq=atq.replace(\" \",\"-\")\n",
        "    atq=busca_atq(atq,pokemon)\n",
        "  # print(atq)\n",
        "  return atq"
      ],
      "metadata": {
        "id": "VqwVVbn4Z2cZ"
      },
      "execution_count": 73,
      "outputs": []
    },
    {
      "cell_type": "code",
      "source": [
        "def faz_status_OD(atq,pokemon_a,pokemon_e):\n",
        "  #0=OFENSIVO\n",
        "  #1=DEFENSIVO\n",
        "  lista_OD=[0,0]\n",
        "  if(atq[\"damage_class\"][\"name\"]==\"special\"):\n",
        "    lista_OD[0]=pokemon_a[\"atributos\"][\"Ataque especial\"]\n",
        "    lista_OD[1]=pokemon_e[\"atributos\"][\"Defesa especial\"]\n",
        "  else:\n",
        "    lista_OD[0]=pokemon_a[\"atributos\"][\"Ataque\"]\n",
        "    lista_OD[1]=pokemon_e[\"atributos\"][\"Defesa\"]\n",
        "  return lista_OD\n",
        "# print(status_ofensivo)\n",
        "# print(statuds_defensivo)"
      ],
      "metadata": {
        "id": "cA04jCu9-O5i"
      },
      "execution_count": 74,
      "outputs": []
    },
    {
      "cell_type": "code",
      "source": [
        "def faz_stab(atq,pokemon):\n",
        "  if(atq[\"type\"][\"name\"] in pokemon[\"tipos\"]):\n",
        "    stab=1.5\n",
        "  else:\n",
        "    stab=1\n",
        "  return stab\n",
        "# print(stab)"
      ],
      "metadata": {
        "id": "vke65q3gBG5l"
      },
      "execution_count": 75,
      "outputs": []
    },
    {
      "cell_type": "code",
      "source": [
        "def cria_dicio_res():\n",
        "  dicio_res={}\n",
        "  for i in range(18):\n",
        "    dicio=requesta_a_festa(URL+BUSCA4+str(i+1))\n",
        "    dicio_res[dicio[\"name\"]]=dicio\n",
        "    \n",
        "  return dicio_res"
      ],
      "metadata": {
        "id": "in2KnChjMk1c"
      },
      "execution_count": 76,
      "outputs": []
    },
    {
      "cell_type": "code",
      "source": [
        "def faz_resistencia(pokemon,atq,dicio_res):\n",
        "  resistencia_multi=1\n",
        "  for i in pokemon[\"tipos\"]:\n",
        "    for k in dicio_res[i][\"damage_relations\"][\"double_damage_from\"]:\n",
        "      if atq[\"type\"][\"name\"]==k[\"name\"]:\n",
        "        resistencia_multi*=2\n",
        "    for k in dicio_res[i][\"damage_relations\"][\"half_damage_from\"]:\n",
        "      if atq[\"type\"][\"name\"]== k[\"name\"]:\n",
        "        resistencia_multi=resistencia_multi/2\n",
        "    for k in dicio_res[i][\"damage_relations\"][\"no_damage_from\"]:\n",
        "        if atq[\"type\"][\"name\"]==k[\"name\"]:\n",
        "          resistencia_multi=0\n",
        "  return(resistencia_multi) "
      ],
      "metadata": {
        "id": "KuIZniCs-PFY"
      },
      "execution_count": 77,
      "outputs": []
    },
    {
      "cell_type": "code",
      "source": [
        "def total_vida(pokemon,EV=252,IV=31,LVL=100):\n",
        "  vida=math.floor(0.01*(2*pokemon[\"atributos\"][\"Vida\"]+IV+math.floor(0.25*EV))*LVL)+LVL+10\n",
        "  return vida"
      ],
      "metadata": {
        "id": "8bH0XddGXLFu"
      },
      "execution_count": 78,
      "outputs": []
    },
    {
      "cell_type": "code",
      "source": [
        "def total_stats(stat,EV=252,IV=31,LVL=100,NATURE=1):\n",
        "  stat=math.floor(0.01*((2*stat+IV+math.floor(0.25*EV))*LVL)+5)*NATURE\n",
        "  return stat"
      ],
      "metadata": {
        "id": "hDYXwZf1OKda"
      },
      "execution_count": 79,
      "outputs": []
    },
    {
      "cell_type": "code",
      "source": [
        "def faz_atq(pokemon_a,pokemon_e,atq,poder_atq,status_ofensivo,status_defensivo,stab,resistencia_multi):\n",
        "    aleatorio=1\n",
        "    if(poder_atq==None):\n",
        "      return 0\n",
        "    if(resistencia_multi==0):\n",
        "      return 0\n",
        "    else:\n",
        "      dano= round(((((42)* poder_atq * (status_ofensivo/status_defensivo))/50)+2)*stab*resistencia_multi*aleatorio,0)\n",
        "      if(atq[\"accuracy\"]==None):\n",
        "        multi_mira=1\n",
        "      else:\n",
        "        multi_mira=atq[\"accuracy\"]/100\n",
        "      dano*=multi_mira\n",
        "    return dano\n"
      ],
      "metadata": {
        "id": "10ePgJQZoTEv"
      },
      "execution_count": 80,
      "outputs": []
    },
    {
      "cell_type": "code",
      "source": [
        "def faz_relogio(pokemon_atributos_a,pokemon_atributos_e,pokemon_a,pokemon_e):\n",
        "  maior=0\n",
        "  for i in pokemon_atributos_a[\"atq\"]:\n",
        "    atq=pokemon_atributos_a[\"atq\"][i]\n",
        "    stab=faz_stab(atq,pokemon_a)\n",
        "    poder_atq=atq[\"power\"]\n",
        "    lista_OD=faz_status_OD(atq,pokemon_a,pokemon_e)\n",
        "    if(atq[\"damage_class\"][\"name\"]==\"special\"):\n",
        "      EV_a=pokemon_atributos_a[\"EVs\"][\"Ataque especial\"]\n",
        "      IV_a=pokemon_atributos_a[\"IVs\"][\"Ataque especial\"]\n",
        "      EV_e=pokemon_atributos_e[\"EVs\"][\"Defesa especial\"]\n",
        "      IV_e=pokemon_atributos_e[\"IVs\"][\"Defesa especial\"]\n",
        "    else:\n",
        "      EV_a=pokemon_atributos_a[\"EVs\"][\"Ataque\"]\n",
        "      IV_a=pokemon_atributos_a[\"IVs\"][\"Ataque\"]\n",
        "      EV_e=pokemon_atributos_e[\"EVs\"][\"Defesa\"]\n",
        "      IV_e=pokemon_atributos_e[\"IVs\"][\"Defesa\"]\n",
        "    status_ofensivo=total_stats(lista_OD[0],EV_a,IV_a)\n",
        "    status_defensivo=total_stats(lista_OD[1],EV_e,IV_e)\n",
        "    resistencia_multi=faz_resistencia(pokemon_e,atq,dicio_res)\n",
        "    dano=faz_atq(pokemon_a,pokemon_e,atq,poder_atq,status_ofensivo,status_defensivo,stab,resistencia_multi)\n",
        "    if(dano>maior):\n",
        "      maior_atq=atq\n",
        "      maior=dano\n",
        "      # print(atq[\"name\"])\n",
        "  return maior_atq\n"
      ],
      "metadata": {
        "id": "odBWEeP63pK4"
      },
      "execution_count": 81,
      "outputs": []
    },
    {
      "cell_type": "code",
      "source": [
        "def cria_pra_batalha(pokemon_dic, MSG):\n",
        "  pokemon=cria_poke(MSG)\n",
        "  for i in pokemon_dic:\n",
        "    if(pokemon_dic[i][\"name\"].upper()==pokemon[\"Nome\"]):\n",
        "      id=i\n",
        "      break\n",
        "  pokemon_atributos_a={}\n",
        "  pokemon_atributos_a[id]={\"name\":\"teste\",\"IVs\":{\"Vida\":0,\"Ataque\":0,\"Defesa\":0,\"Ataque especial\":0,\"Defesa especial\":0,\"Velocidade\":0},\n",
        "                                      \"EVs\":{\"Vida\":0,\"Ataque\":0,\"Defesa\":0,\"Ataque especial\":0,\"Defesa especial\":0,\"Velocidade\":0},\n",
        "                                      \"atq\":{1:{\"name\":\"\",\"type\":{\"name\":\"\"},\"damage_class\":{\"name\":\"\"},\"power\":0,\"accuracy\":0},2:{\"name\":\"\",\"type\":{\"name\":\"\"},\"damage_class\":{\"name\":\"\"},\"power\":0,\"accuracy\":0},3:{\"name\":\"\",\"type\":{\"name\":\"\"},\"damage_class\":{\"name\":\"\"},\"power\":0,\"accuracy\":0},4:{\"name\":\"\",\"type\":{\"name\":\"\"},\"damage_class\":{\"name\":\"\"},\"power\":0,\"accuracy\":0}}}                                    \n",
        "\n",
        "\n",
        "  pokemon_atributos_a[id][\"name\"]=pokemon[\"Nome\"]\n",
        "  for i in pokemon_atributos_a[id][\"IVs\"]:\n",
        "    IV=0\n",
        "    while IV<=0 or IV>31:\n",
        "      print(\"digite seu IV de \",i)\n",
        "      IV=int(input())\n",
        "    pokemon_atributos_a[id][\"IVs\"][i]=IV\n",
        "  soma_EV=0\n",
        "  while soma_EV>510 or soma_EV<=0:\n",
        "    for i in pokemon_atributos_a[id][\"EVs\"]:\n",
        "      EV=-1\n",
        "      while EV<0 or EV>255:\n",
        "        print(\"digite seu EV de \",i)\n",
        "        EV=int(input())\n",
        "      soma_EV+=EV\n",
        "      if(soma_EV>510):\n",
        "        print(\"Soma de EV excede 510.\")\n",
        "        soma_EV=0\n",
        "        break\n",
        "      pokemon_atributos_a[id][\"EVs\"][i]=EV\n",
        "      \n",
        "  for i in range(4):\n",
        "    atq= cria_atq(pokemon)\n",
        "    pokemon_atributos_a[id][\"atq\"][i+1]={\"name\":atq[\"name\"],\"damage_class\":{\"name\":atq[\"damage_class\"][\"name\"]},\"type\":{\"name\":atq[\"type\"][\"name\"]},\"power\":atq[\"power\"],\"accuracy\":atq[\"accuracy\"]}\n",
        "  return pokemon_atributos_a\n",
        "\n"
      ],
      "metadata": {
        "id": "F2VMzcX1oCLz"
      },
      "execution_count": 82,
      "outputs": []
    },
    {
      "cell_type": "code",
      "source": [
        "def pega_id(pokemon):\n",
        "  for i in pokemon_dic:\n",
        "    if(pokemon_dic[i][\"name\"].upper()==pokemon[\"Nome\"]):\n",
        "      id=i\n",
        "      return i"
      ],
      "metadata": {
        "id": "mKFkSd0psCKL"
      },
      "execution_count": 83,
      "outputs": []
    },
    {
      "cell_type": "code",
      "source": [
        "def COMBATE(pokemon_a,pokemon_e,atq_a,atq_e,stab_a,stab_e,resistencia_multi_a,resistencia_multi_e,status_ofensivo_a,status_ofensivo_e,status_defensivo_a,status_defensivo_e,maior_atq_a,maior_atq_e,velocidade_a,velocidade_e):\n",
        "  vitoria_e=0\n",
        "  vitoria_a=0\n",
        "  for i in range(TESTE):\n",
        "    vida_e=total_vida(pokemon_e)\n",
        "    vida_a=total_vida(pokemon_a)\n",
        "    while(vida_a>0 or vida_e>0):\n",
        "      if(velocidade_a>velocidade_e):\n",
        "        dano=faz_atq2(atq_a,maior_atq_a,status_ofensivo_a,status_defensivo_e,stab_a,resistencia_multi_e)\n",
        "        vida_e-=dano\n",
        "        if(vida_e<=0):\n",
        "          vitoria_a+=1\n",
        "          break\n",
        "        dano=faz_atq2(atq_e,maior_atq_e,status_ofensivo_e,status_defensivo_a,stab_e,resistencia_multi_a)\n",
        "        vida_a-=dano\n",
        "        if(vida_a<=0):\n",
        "          vitoria_e+=1\n",
        "          break\n",
        "      elif(velocidade_e>velocidade_a):\n",
        "        dano=faz_atq2(atq_e,maior_atq_e,status_ofensivo_e,status_defensivo_a,stab_e,resistencia_multi_a)\n",
        "        vida_a-=dano\n",
        "        if(vida_a<=0):\n",
        "          vitoria_e+=1\n",
        "          break\n",
        "        dano=faz_atq2(atq_a,maior_atq_a,status_ofensivo_a,status_defensivo_e,stab_a,resistencia_multi_e)\n",
        "        vida_e-=dano\n",
        "        if(vida_e<=0):\n",
        "          vitoria_a+=1\n",
        "          break\n",
        "      else:\n",
        "        empate=random.randrange(1,3)\n",
        "        if(empate==1):\n",
        "          dano=faz_atq2(atq_a,maior_atq_a,status_ofensivo_a,status_defensivo_e,stab_a,resistencia_multi_e)\n",
        "          vida_e-=dano\n",
        "          if(vida_e<=0):\n",
        "            vitoria_a+=1\n",
        "            break\n",
        "          dano=faz_atq2(atq_e,maior_atq_e,status_ofensivo_e,status_defensivo_a,stab_e,resistencia_multi_a)\n",
        "          vida_a-=dano\n",
        "          if(vida_a<=0):\n",
        "            vitoria_e+=1\n",
        "            break\n",
        "        else:\n",
        "          dano=faz_atq2(atq_e,maior_atq_e,status_ofensivo_e,status_defensivo_a,stab_e,resistencia_multi_a)\n",
        "          vida_a-=dano\n",
        "          if(vida_a<=0):\n",
        "            vitoria_e+=1\n",
        "            break\n",
        "          dano=faz_atq2(atq_a,maior_atq_a,status_ofensivo_a,status_defensivo_e,stab_a,resistencia_multi_e)\n",
        "          vida_e-=dano\n",
        "          if(vida_e<=0):\n",
        "            vitoria_a+=1\n",
        "            break       \n",
        "  return vitoria_a"
      ],
      "metadata": {
        "id": "h5Bb6xF2aTPy"
      },
      "execution_count": 84,
      "outputs": []
    },
    {
      "cell_type": "code",
      "source": [
        "def troca_ou_fica(pokemon_a,pokemon_atributos_a,pokemon_atributos_e,poke_atual_a,poke_atual_e,vida_time_a,vida_e):\n",
        "  maior_vit=-1\n",
        "  velocidade_a=total_stats(poke_atual_a[\"atributos\"][\"Velocidade\"])\n",
        "  velocidade_e=total_stats(poke_atual_e[\"atributos\"][\"Velocidade\"])\n",
        "  for id_a in pokemon_a:\n",
        "    print(\"Testando:\",pokemon_a[id_a][\"Nome\"],\"vs\",poke_atual_e[\"Nome\"])\n",
        "    atq_a=faz_relogio(pokemon_atributos_a[str(id_a)],pokemon_atributos_e[str(pega_id(poke_atual_e))],pokemon_a[id_a],poke_atual_e)\n",
        "    atq_e=faz_relogio(pokemon_atributos_e[str(pega_id(poke_atual_e))],pokemon_atributos_a[str(id_a)],poke_atual_e,pokemon_a[id_a])\n",
        "    if pokemon_a[id_a][\"Nome\"]==poke_atual_a[\"Nome\"]:\n",
        "      atq_atual=atq_a\n",
        "    lista_OD=faz_status_OD(atq_a,pokemon_a[id_a],poke_atual_e)\n",
        "    status_ofensivo_a=total_stats(lista_OD[0])\n",
        "    status_defensivo_e=total_stats(lista_OD[1])\n",
        "    lista_OD=faz_status_OD(atq_e,poke_atual_e,pokemon_a[id_a])\n",
        "    status_ofensivo_e=total_stats(lista_OD[0])\n",
        "    status_defensivo_a=total_stats(lista_OD[1])\n",
        "    vitoria=chama_COMBATE2(pokemon_a[id_a],poke_atual_e,atq_a,atq_e,status_ofensivo_a,status_ofensivo_e,status_defensivo_a,status_defensivo_e,velocidade_a,velocidade_e,vida_time_a[id_a],vida_e)\n",
        "    if pokemon_a[id_a][\"Nome\"]==poke_atual_a[\"Nome\"]:\n",
        "      vitoria_atual=vitoria\n",
        "    if vitoria/TESTE>maior_vit:\n",
        "      maior_vit=vitoria/TESTE\n",
        "      maior_poke_a=pokemon_a[id_a]\n",
        "      maior_atq_a=atq_a    \n",
        "  if maior_poke_a[\"Nome\"]!=poke_atual_a[\"Nome\"] and vitoria_atual/TESTE<0.7 and maior_vit>0.5:\n",
        "    troca=[True,maior_poke_a,maior_atq_a]\n",
        "  else:\n",
        "    troca=[False,poke_atual_a,atq_atual]\n",
        "  print(\"Troca:\",str(troca[0]))\n",
        "  return troca\n",
        "\n",
        "\n"
      ],
      "metadata": {
        "id": "aMQNaQgqq7wV"
      },
      "execution_count": 85,
      "outputs": []
    },
    {
      "cell_type": "code",
      "source": [
        "def chama_COMBATE(pokemon_a,pokemon_e,atq_a,atq_e,status_ofensivo_a,status_ofensivo_e,status_defensivo_a,status_defensivo_e,velocidade_a,velocidade_e):\n",
        "  maior_atq_a=atq_a[\"power\"]\n",
        "  maior_atq_e=atq_e[\"power\"]\n",
        "  stab_a=faz_stab(atq_a,pokemon_a)\n",
        "  stab_e=faz_stab(atq_e,pokemon_e)\n",
        "  resistencia_multi_a=faz_resistencia(pokemon_a,atq_e,dicio_res)\n",
        "  resistencia_multi_e=faz_resistencia(pokemon_e,atq_a,dicio_res)\n",
        "  vitoria= COMBATE(pokemon_a,pokemon_e,atq_a,atq_e,stab_a,stab_e,resistencia_multi_a,resistencia_multi_e,status_ofensivo_a,status_ofensivo_e,status_defensivo_a,status_defensivo_e,maior_atq_a,maior_atq_e,velocidade_a,velocidade_e,)\n",
        "  return vitoria"
      ],
      "metadata": {
        "id": "PEo_ZsXJkz3v"
      },
      "execution_count": 98,
      "outputs": []
    },
    {
      "cell_type": "code",
      "source": [
        "def faz_atq2(atq,poder_atq,status_ofensivo,status_defensivo,stab,resistencia_multi):\n",
        "  aleatorio=random.randrange(217,256)/255\n",
        "  mira=atq[\"accuracy\"]\n",
        "  if(random.randrange(1,101)>mira):\n",
        "    return 0\n",
        "  else:\n",
        "    if(resistencia_multi==0):\n",
        "      return 0\n",
        "    else:\n",
        "      if(random.randrange(1,17)>=16):\n",
        "        aleatorio=1\n",
        "        dano= round(((((42)* poder_atq * (status_ofensivo/status_defensivo))/50)+2)*stab*resistencia_multi*aleatorio*2,0)  \n",
        "      else:\n",
        "        dano= round(((((42)* poder_atq * (status_ofensivo/status_defensivo))/50)+2)*stab*resistencia_multi*aleatorio,0)\n",
        "  return dano"
      ],
      "metadata": {
        "id": "quyeQCYM4Z_Y"
      },
      "execution_count": 87,
      "outputs": []
    },
    {
      "cell_type": "code",
      "source": [
        "def universo_move(id,pokemon_a,pokemon_e):\n",
        "  maior=0\n",
        "  for i in pokemon_dic2[id][\"moves\"]:\n",
        "    atq=busca_atq(i[\"move\"][\"name\"],pokemon_a)\n",
        "    vida_e=total_vida(pokemon_e)\n",
        "    stab=faz_stab(atq,pokemon_a)\n",
        "    poder_atq=atq[\"power\"]\n",
        "    lista_OD=faz_status_OD(atq,pokemon_a,pokemon_e)\n",
        "    status_ofensivo=total_stats(lista_OD[0])\n",
        "    status_defensivo=total_stats(lista_OD[1])\n",
        "    resistencia_multi=faz_resistencia(pokemon_e,atq,dicio_res)\n",
        "    dano=faz_atq(pokemon_a,pokemon_e,atq,poder_atq,status_ofensivo,status_defensivo,stab,resistencia_multi)\n",
        "    if(dano>maior):\n",
        "      retorna_atq=atq\n",
        "      maior=dano\n",
        "  return retorna_atq"
      ],
      "metadata": {
        "id": "iTzfv46v_pE7"
      },
      "execution_count": 88,
      "outputs": []
    },
    {
      "cell_type": "code",
      "source": [
        "def mini_universo_combate(pokemon_a,pokemon_e,id):\n",
        "  lista_dano=[0,0]\n",
        "  lista_atq=[0,0]\n",
        "  lista_tipo=[0,0]\n",
        "  lista_final=[]\n",
        "  for i in pokemon_dic2[id][\"moves\"]:\n",
        "    atq=busca_atq(i[\"move\"][\"name\"],pokemon_a)\n",
        "    vida_e=total_vida(pokemon_e)\n",
        "    stab=faz_stab(atq,pokemon_a)\n",
        "    poder_atq=atq[\"power\"]\n",
        "    lista_OD=faz_status_OD(atq,pokemon_a,pokemon_e)\n",
        "    status_ofensivo=total_stats(lista_OD[0])\n",
        "    status_defensivo=total_stats(lista_OD[1])\n",
        "    resistencia_multi=faz_resistencia(pokemon_e,atq,dicio_res)\n",
        "    dano=faz_atq(pokemon_a,pokemon_e,atq,poder_atq,status_ofensivo,status_defensivo,stab,resistencia_multi)\n",
        "    if(dano>lista_dano[0]):\n",
        "      lista_dano[0]=dano\n",
        "      lista_atq[0]=atq[\"name\"]\n",
        "      lista_tipo[0]=atq[\"damage_class\"][\"name\"]\n",
        "      if(atq[\"accuracy\"]==None):\n",
        "        acc=100\n",
        "      else:\n",
        "        acc=atq[\"accuracy\"]\n",
        "    elif (dano>lista_dano[1] and atq[\"accuracy\"]==100):\n",
        "      lista_dano[1]=dano\n",
        "      lista_atq[1]=atq[\"name\"]\n",
        "      lista_tipo[1]=atq[\"damage_class\"][\"name\"]\n",
        "  lista_final.append(lista_dano)\n",
        "  lista_final.append(lista_atq)\n",
        "  lista_final.append(lista_tipo)\n",
        "  lista_final.append(acc)\n",
        "  return lista_final   \n"
      ],
      "metadata": {
        "id": "1G8GIXg4i_Td"
      },
      "execution_count": 89,
      "outputs": []
    },
    {
      "cell_type": "code",
      "source": [
        "def abre_json(file):\n",
        "  with open(file) as f:\n",
        "    item=json.load(f)\n",
        "  return item"
      ],
      "metadata": {
        "id": "LsKDmnIMHfAZ"
      },
      "execution_count": 90,
      "outputs": []
    },
    {
      "cell_type": "code",
      "source": [
        "def COMBATE2(atq_a,atq_e,stab_a,stab_e,resistencia_multi_a,resistencia_multi_e,status_ofensivo_a,status_ofensivo_e,status_defensivo_a,status_defensivo_e,maior_atq_a,maior_atq_e,velocidade_a,velocidade_e,vida_a,vida_e):\n",
        "  vitoria_e=0\n",
        "  vitoria_a=0\n",
        "  max_a=vida_a\n",
        "  max_e=vida_e\n",
        "  for i in range(TESTE):\n",
        "    vida_a=max_a\n",
        "    vida_e=max_e\n",
        "    while(vida_a>0 or vida_e>0):\n",
        "      if(velocidade_a>velocidade_e):\n",
        "        dano=faz_atq2(atq_a,maior_atq_a,status_ofensivo_a,status_defensivo_e,stab_a,resistencia_multi_e)\n",
        "        vida_e-=dano\n",
        "        if(vida_e<=0):\n",
        "          vitoria_a+=1\n",
        "          break\n",
        "        dano=faz_atq2(atq_e,maior_atq_e,status_ofensivo_e,status_defensivo_a,stab_e,resistencia_multi_a)\n",
        "        vida_a-=dano\n",
        "        if(vida_a<=0):\n",
        "          vitoria_e+=1\n",
        "          break\n",
        "      elif(velocidade_e>velocidade_a):\n",
        "        dano=faz_atq2(atq_e,maior_atq_e,status_ofensivo_e,status_defensivo_a,stab_e,resistencia_multi_a)\n",
        "        vida_a-=dano\n",
        "        if(vida_a<=0):\n",
        "          vitoria_e+=1\n",
        "          break\n",
        "        dano=faz_atq2(atq_a,maior_atq_a,status_ofensivo_a,status_defensivo_e,stab_a,resistencia_multi_e)\n",
        "        vida_e-=dano\n",
        "        if(vida_e<=0):\n",
        "          vitoria_a+=1\n",
        "          break\n",
        "      else:\n",
        "        empate=random.randrange(1,3)\n",
        "        if(empate==1):\n",
        "          dano=faz_atq2(atq_a,maior_atq_a,status_ofensivo_a,status_defensivo_e,stab_a,resistencia_multi_e)\n",
        "          vida_e-=dano\n",
        "          if(vida_e<=0):\n",
        "            vitoria_a+=1\n",
        "            break\n",
        "          dano=faz_atq2(atq_e,maior_atq_e,status_ofensivo_e,status_defensivo_a,stab_e,resistencia_multi_a)\n",
        "          vida_a-=dano\n",
        "          if(vida_a<=0):\n",
        "            vitoria_e+=1\n",
        "            break\n",
        "        else:\n",
        "          dano=faz_atq2(atq_e,maior_atq_e,status_ofensivo_e,status_defensivo_a,stab_e,resistencia_multi_a)\n",
        "          vida_a-=dano\n",
        "          if(vida_a<=0):\n",
        "            vitoria_e+=1\n",
        "            break\n",
        "          dano=faz_atq2(atq_a,maior_atq_a,status_ofensivo_a,status_defensivo_e,stab_a,resistencia_multi_e)\n",
        "          vida_e-=dano\n",
        "          if(vida_e<=0):\n",
        "            vitoria_a+=1\n",
        "            break\n",
        "  return vitoria_a"
      ],
      "metadata": {
        "id": "gIeCDLiNJaHm"
      },
      "execution_count": 91,
      "outputs": []
    },
    {
      "cell_type": "code",
      "source": [
        "def escolhe_aleatorio(equipe):\n",
        "  lista=[]\n",
        "  maior=-1\n",
        "  for i in equipe:\n",
        "    lista.append([i,random.randrange(1,1000)])\n",
        "  for i in lista:\n",
        "    if i[1]>maior:\n",
        "      maior=i[1]\n",
        "      id=i[0]\n",
        "  return id\n",
        "\n"
      ],
      "metadata": {
        "id": "PysFFa5cq7rA"
      },
      "execution_count": 92,
      "outputs": []
    },
    {
      "cell_type": "code",
      "source": [
        "def faz_prompt_miniverso(lista_final,pokemon):\n",
        "  vida=total_vida(pokemon)\n",
        "  print(\"NAME:\",lista_final[1][0].upper(),\"|\",\"EFFECTIVE DAMAGE:\",\"|\",(round(lista_final[0][0]*0.85,0)/vida)*100,\"%\",\"-\",(lista_final[0][0]/vida)*100,\"%\",\"|\", \"ACCURACY:\",lista_final[3],\"|\",\"DAMAGE TYPE:\",lista_final[2][0].upper())\n",
        "  print(\"NAME:\",lista_final[1][1].upper(),\"|\",\"EFFECTIVE DAMAGE:\",\"|\",(round(lista_final[0][1]*0.85,0)/vida)*100,\"%\",\"-\",(lista_final[0][1]/vida)*100,\"%\",\"|\", \"ACCURACY:\",\"100\",\"|\",\"DAMAGE TYPE:\",lista_final[2][1].upper())"
      ],
      "metadata": {
        "id": "TFiJOrs1mM4V"
      },
      "execution_count": 93,
      "outputs": []
    },
    {
      "cell_type": "code",
      "source": [
        "def chama_COMBATE2(pokemon_a,pokemon_e,atq_a,atq_e,status_ofensivo_a,status_ofensivo_e,status_defensivo_a,status_defensivo_e,velocidade_a,velocidade_e,vida_a,vida_e):\n",
        "  maior_atq_a=atq_a[\"power\"]\n",
        "  maior_atq_e=atq_e[\"power\"]\n",
        "  stab_a=faz_stab(atq_a,pokemon_a)\n",
        "  stab_e=faz_stab(atq_e,pokemon_e)\n",
        "  resistencia_multi_a=faz_resistencia(pokemon_a,atq_e,dicio_res)\n",
        "  resistencia_multi_e=faz_resistencia(pokemon_e,atq_a,dicio_res)\n",
        "  vitoria= COMBATE2(atq_a,atq_e,stab_a,stab_e,resistencia_multi_a,resistencia_multi_e,status_ofensivo_a,status_ofensivo_e,status_defensivo_a,status_defensivo_e,maior_atq_a,maior_atq_e,velocidade_a,velocidade_e,vida_a,vida_e)\n",
        "  return vitoria"
      ],
      "metadata": {
        "id": "ghdboNtYJY4H"
      },
      "execution_count": 94,
      "outputs": []
    },
    {
      "cell_type": "code",
      "source": [
        "def chama_chama_combate2(pokemon_atributos_a,pokemon_atributos_e,pokemon_a,poke_atual_e,vida_time_a,vida_time_e):\n",
        "  maior_vit=-1\n",
        "  for id_a in pokemon_a:\n",
        "    print(\"Testando:\",pokemon_a[id_a][\"Nome\"],\"vs\",poke_atual_e[\"Nome\"])\n",
        "    atq_a=faz_relogio(pokemon_atributos_a[str(id_a)],pokemon_atributos_e[str(pega_id(poke_atual_e))],pokemon_a[id_a],poke_atual_e)\n",
        "    atq_e=faz_relogio(pokemon_atributos_e[str(pega_id(poke_atual_e))],pokemon_atributos_a[str(id_a)],poke_atual_e,pokemon_a[id_a])\n",
        "    lista_OD=faz_status_OD(atq_a,pokemon_a[id_a],poke_atual_e)\n",
        "    status_ofensivo_a=total_stats(lista_OD[0])\n",
        "    status_defensivo_e=total_stats(lista_OD[1])\n",
        "    lista_OD=faz_status_OD(atq_e,poke_atual_e,pokemon_a[id_a])\n",
        "    status_ofensivo_e=total_stats(lista_OD[0])\n",
        "    status_defensivo_a=total_stats(lista_OD[1])\n",
        "    vida_e=vida_time_e[str(pega_id(poke_atual_e))]\n",
        "    vitoria=chama_COMBATE2(pokemon_a[id_a],poke_atual_e,atq_e,atq_a,status_ofensivo_a,status_ofensivo_e,status_defensivo_a,status_defensivo_e,velocidade_a,velocidade_e,vida_time_a[id_a],vida_e)\n",
        "    if vitoria/TESTE>maior_vit:\n",
        "      maior_vit=vitoria/TESTE\n",
        "      poke_atual_a=pokemon_a[id_a]\n",
        "  return poke_atual_a\n"
      ],
      "metadata": {
        "id": "AQNHjXSBdx4i"
      },
      "execution_count": 95,
      "outputs": []
    },
    {
      "cell_type": "code",
      "source": [
        "def chama_atq(atq,pokemon_a,pokemon_e):\n",
        "  lista_OD=faz_status_OD(atq,pokemon_a,pokemon_e)\n",
        "  status_ofensivo=total_stats(lista_OD[0])\n",
        "  status_defensivo=total_stats(lista_OD[1])\n",
        "  stab=faz_stab(atq,pokemon_a)\n",
        "  resistencia_multi=faz_resistencia(poke_atual_e,atq,dicio_res)\n",
        "  dano=faz_atq2(atq,atq[\"power\"],status_ofensivo,status_defensivo,stab,resistencia_multi)\n",
        "  return dano\n",
        "\n"
      ],
      "metadata": {
        "id": "X57E1XmSx1pL"
      },
      "execution_count": 96,
      "outputs": []
    },
    {
      "cell_type": "markdown",
      "source": [
        "# CARREGA API"
      ],
      "metadata": {
        "id": "w0IhewBwHqDv"
      }
    },
    {
      "cell_type": "code",
      "source": [
        "poke_dex={}\n",
        "cont=1\n",
        "pokemon_dic={}\n",
        "pokemon_dic2={}\n",
        "dicio_res={}\n",
        "while cont<=ALCANCE:\n",
        "  # print(cont)\n",
        "  pokemon_dic[cont]=requesta_a_festa(URL+BUSCA+str(cont))\n",
        "  pokemon_dic2[cont]=requesta_a_festa(URL+BUSCA2+str(cont))\n",
        "  poke_dex[cont]=faz_dex(pokemon_dic,pokemon_dic2,cont)\n",
        "  cont+=1\n",
        "dicio_res=cria_dicio_res()\n",
        "grava_json(poke_dex,\"pokedex.json\")\n"
      ],
      "metadata": {
        "id": "sLJtHqpv3PQS"
      },
      "execution_count": 32,
      "outputs": []
    },
    {
      "cell_type": "markdown",
      "source": [
        "# Demonstração ataque"
      ],
      "metadata": {
        "id": "14Zk5BI03e7M"
      }
    },
    {
      "cell_type": "code",
      "source": [
        "pokemon_a=cria_poke(ALIADO)\n",
        "pokemon_e=cria_poke(INIMIGO)\n",
        "id_a=pega_id(pokemon_a)\n",
        "id_e=pega_id(pokemon_e)\n",
        "atq=cria_atq(pokemon_a)"
      ],
      "metadata": {
        "id": "_0UJHR7ex4Bn"
      },
      "execution_count": null,
      "outputs": []
    },
    {
      "cell_type": "code",
      "source": [
        "lista_OD=faz_status_OD(atq,pokemon_a,pokemon_e)\n",
        "status_ofensivo=total_stats(lista_OD[0])\n",
        "status_defensivo=total_stats(lista_OD[1])\n",
        "stab=faz_stab(atq,pokemon_a)\n",
        "resistencia_multi=faz_resistencia(pokemon_e,atq,dicio_res)"
      ],
      "metadata": {
        "id": "CekNTg4yforp"
      },
      "execution_count": 58,
      "outputs": []
    },
    {
      "cell_type": "code",
      "source": [
        "vida_e=total_vida(pokemon_e)\n",
        "dano=faz_atq2(atq,atq[\"power\"],status_ofensivo,status_defensivo,stab,resistencia_multi)\n",
        "print(pokemon_a[\"Nome\"],\"usou:\"+atq[\"name\"].upper())\n",
        "print((dano/vida_e)*100,\"% de dano!\")"
      ],
      "metadata": {
        "id": "ybHL7FKTzO5K"
      },
      "execution_count": null,
      "outputs": []
    },
    {
      "cell_type": "markdown",
      "source": [
        "# Demonstração universo"
      ],
      "metadata": {
        "id": "YVhW3_hrReUc"
      }
    },
    {
      "cell_type": "code",
      "source": [
        "pokemon_a=cria_poke(ALIADO)\n",
        "pokemon_e=cria_poke(INIMIGO)\n",
        "id_a=pega_id(pokemon_a)\n",
        "id_e=pega_id(pokemon_e)"
      ],
      "metadata": {
        "id": "x_5x0XUeabpI"
      },
      "execution_count": null,
      "outputs": []
    },
    {
      "cell_type": "code",
      "source": [
        "# A ATACA\n",
        "lista_final=mini_universo_combate(pokemon_a,pokemon_e,id_a)\n",
        "print(pokemon_a[\"Nome\"])\n",
        "faz_prompt_miniverso(lista_final,pokemon_e)"
      ],
      "metadata": {
        "id": "40Bb8xCbk38V"
      },
      "execution_count": null,
      "outputs": []
    },
    {
      "cell_type": "code",
      "source": [
        "# E ATACA\n",
        "lista_final=mini_universo_combate(pokemon_e,pokemon_a,id_e)\n",
        "print(pokemon_e[\"Nome\"])\n",
        "faz_prompt_miniverso(lista_final,pokemon_a)"
      ],
      "metadata": {
        "id": "myYOOhjMnDb7"
      },
      "execution_count": null,
      "outputs": []
    },
    {
      "cell_type": "markdown",
      "source": [
        "# Demonstração cria e analisa"
      ],
      "metadata": {
        "id": "ftOmXEQpR7IU"
      }
    },
    {
      "cell_type": "code",
      "source": [
        "#RHYDOM VS RHYDOM\n",
        "pokemon_a=poke_dex[112]\n",
        "pokemon_atributos_a={}\n",
        "id_a=112\n",
        "pokemon_atributos_a[112]={\"name\":\"RHYDON\",\"IVs\":{\"Vida\":31,\"Ataque\":31,\"Defesa\":31,\"Ataque especial\":31,\"Defesa especial\":31,\"Velocidade\":31},\n",
        "                                    \"EVs\":{\"Vida\":252,\"Ataque\":252,\"Defesa\":4,\"Ataque especial\":0,\"Defesa especial\":0,\"Velocidade\":0},\n",
        "                                     \"atq\":{1:{\"name\":\"earthquake\",\"type\":{\"name\":\"ground\"},\"damage_class\":{\"name\":\"physical\"},\"power\":100,\"accuracy\":100},2:{\"name\":\"stone-edge\",\"type\":{\"name\":\"rock\"},\"damage_class\":{\"name\":\"physical\"},\"power\":100,\"accuracy\":80},3:{\"name\":\"brick-break\",\"type\":{\"name\":\"fighting\"},\"damage_class\":{\"name\":\"physical\"},\"power\":75,\"accuracy\":100},4:{\"name\":\"poison-jab\",\"type\":{\"name\":\"poison\"},\"damage_class\":{\"name\":\"physical\"},\"power\":80,\"accuracy\":100}}}\n",
        "\n",
        "pokemon_e=poke_dex[112]\n",
        "id_e=112\n",
        "pokemon_atributos_e={}\n",
        "pokemon_atributos_e[112]={\"name\":\"RHYDON\",\"IVs\":{\"Vida\":31,\"Ataque\":31,\"Defesa\":31,\"Ataque especial\":31,\"Defesa especial\":31,\"Velocidade\":31},\n",
        "                                    \"EVs\":{\"Vida\":252,\"Ataque\":252,\"Defesa\":4,\"Ataque especial\":0,\"Defesa especial\":0,\"Velocidade\":0},\n",
        "                                     \"atq\":{1:{\"name\":\"earthquake\",\"type\":{\"name\":\"ground\"},\"damage_class\":{\"name\":\"physical\"},\"power\":100,\"accuracy\":100},2:{\"name\":\"stone-edge\",\"type\":{\"name\":\"rock\"},\"damage_class\":{\"name\":\"physical\"},\"power\":100,\"accuracy\":80},3:{\"name\":\"brick-break\",\"type\":{\"name\":\"fighting\"},\"damage_class\":{\"name\":\"physical\"},\"power\":75,\"accuracy\":100},4:{\"name\":\"poison-jab\",\"type\":{\"name\":\"poison\"},\"damage_class\":{\"name\":\"physical\"},\"power\":80,\"accuracy\":100}}}                                    "
      ],
      "metadata": {
        "id": "gEI7coDfh33r"
      },
      "execution_count": 62,
      "outputs": []
    },
    {
      "cell_type": "code",
      "source": [
        "#MEW ID=A\n",
        "pokemon_a=poke_dex[151]\n",
        "pokemon_atributos_a={}\n",
        "id_a=151\n",
        "pokemon_atributos_a[151]={\"name\":\"MEW\",\"IVs\":{\"Vida\":31,\"Ataque\":31,\"Defesa\":31,\"Ataque especial\":31,\"Defesa especial\":31,\"Velocidade\":31},\n",
        "                                    \"EVs\":{\"Vida\":252,\"Ataque\":0,\"Defesa\":0,\"Ataque especial\":252,\"Defesa especial\":4,\"Velocidade\":0},\n",
        "                                     \"atq\":{1:{\"name\":\"shadow-ball\",\"type\":{\"name\":\"ghost\"},\"damage_class\":{\"name\":\"special\"},\"power\":80,\"accuracy\":100},2:{\"name\":\"psychic\",\"type\":{\"name\":\"psychic\"},\"damage_class\":{\"name\":\"special\"},\"power\":90,\"accuracy\":100},3:{\"name\":\"thunderbolt\",\"type\":{\"name\":\"electric\"},\"damage_class\":{\"name\":\"special\"},\"power\":90,\"accuracy\":100},4:{\"name\":\"ice-beam\",\"type\":{\"name\":\"ice\"},\"damage_class\":{\"name\":\"special\"},\"power\":90,\"accuracy\":100}}}\n",
        "\n",
        "\n",
        "\n",
        "# pokemon_atributos_a[151]={\"name\":\"MEW\",\"IVs\":{\"Vida\":31,\"Ataque\":31,\"Defesa\":31,\"Ataque especial\":31,\"Defesa especial\":31,\"Velocidade\":31},\n",
        "#                                     \"EVs\":{\"Vida\":252,\"Ataque\":0,\"Defesa\":0,\"Ataque especial\":252,\"Defesa especial\":4,\"Velocidade\":0},\n",
        "#                                      \"atq\":{1:{\"name\":\"flame-thrower\",\"type\":{\"name\":\"fire\"},\"damage_class\":{\"name\":\"special\"},\"power\":90,\"accuracy\":100},2:{\"name\":\"psychic\",\"type\":{\"name\":\"psychic\"},\"damage_class\":{\"name\":\"special\"},\"power\":90,\"accuracy\":100},3:{\"name\":\"thunderbolt\",\"type\":{\"name\":\"electric\"},\"damage_class\":{\"name\":\"special\"},\"power\":90,\"accuracy\":100},4:{\"name\":\"ice-beam\",\"type\":{\"name\":\"ice\"},\"damage_class\":{\"name\":\"special\"},\"power\":90,\"accuracy\":100}}}\n",
        "                                 \n"
      ],
      "metadata": {
        "id": "M2725LoLt8p1"
      },
      "execution_count": 44,
      "outputs": []
    },
    {
      "cell_type": "code",
      "source": [
        "#MEWTWO ID=E\n",
        "pokemon_e=poke_dex[150]\n",
        "pokemon_atributos_e={}\n",
        "id_e=150\n",
        "pokemon_atributos_e[150]={\"name\":\"MEWTWO\",\"IVs\":{\"Vida\":31,\"Ataque\":31,\"Defesa\":31,\"Ataque especial\":31,\"Defesa especial\":31,\"Velocidade\":31},\n",
        "                                    \"EVs\":{\"Vida\":4,\"Ataque\":0,\"Defesa\":0,\"Ataque especial\":252,\"Defesa especial\":0,\"Velocidade\":252},\n",
        "                                     \"atq\":{1:{\"name\":\"psychic\",\"type\":{\"name\":\"psychic\"},\"damage_class\":{\"name\":\"special\"},\"power\":90,\"accuracy\":100},2:{\"name\":\"ice-beam\",\"type\":{\"name\":\"ice\"},\"damage_class\":{\"name\":\"special\"},\"power\":90,\"accuracy\":100},3:{\"name\":\"fire-blast\",\"type\":{\"name\":\"fire\"},\"damage_class\":{\"name\":\"special\"},\"power\":110,\"accuracy\":85},4:{\"name\":\"aura-sphere\",\"type\":{\"name\":\"fighting\"},\"damage_class\":{\"name\":\"special\"},\"power\":80,\"accuracy\":100}}}\n"
      ],
      "metadata": {
        "id": "HWR6_edAvDNu"
      },
      "execution_count": 45,
      "outputs": []
    },
    {
      "cell_type": "markdown",
      "source": [
        "CRIA DINÂMICAMENTE"
      ],
      "metadata": {
        "id": "8K34Vzg_0ljC"
      }
    },
    {
      "cell_type": "code",
      "source": [
        "#CRIA A\n",
        "pokemon_atributos_a=cria_pra_batalha(pokemon_dic,ALIADO)\n",
        "id_a=pega_id(pokemon_atributos_a)\n",
        "pokemon_a=poke_dex[id_a]\n"
      ],
      "metadata": {
        "id": "RHtX_aLA0h3L"
      },
      "execution_count": null,
      "outputs": []
    },
    {
      "cell_type": "code",
      "source": [
        "#CRIA E\n",
        "pokemon_atributos_e=cria_pra_batalha(pokemon_dic,INIMIGO)\n",
        "id_e=pega_id(pokemon_atributos_e)\n",
        "pokemon_e=poke_dex[id_e]"
      ],
      "metadata": {
        "id": "LEb4uEBs0iAd"
      },
      "execution_count": null,
      "outputs": []
    },
    {
      "cell_type": "markdown",
      "source": [
        "# CRIA E ANALISA"
      ],
      "metadata": {
        "id": "DpRjL6g3pnUk"
      }
    },
    {
      "cell_type": "code",
      "source": [
        "atq_a=faz_relogio(pokemon_atributos_a[id_a],pokemon_atributos_e[id_e],pokemon_a,pokemon_e)\n",
        "atq_e=faz_relogio(pokemon_atributos_e[id_e],pokemon_atributos_a[id_a],pokemon_e,pokemon_a)\n",
        "velocidade_a=total_stats(pokemon_a[\"atributos\"][\"Velocidade\"],pokemon_atributos_a[id_a][\"EVs\"][\"Velocidade\"],pokemon_atributos_a[id_a][\"IVs\"][\"Velocidade\"])\n",
        "velocidade_e=total_stats(pokemon_e[\"atributos\"][\"Velocidade\"],pokemon_atributos_e[id_e][\"EVs\"][\"Velocidade\"],pokemon_atributos_e[id_e][\"IVs\"][\"Velocidade\"])"
      ],
      "metadata": {
        "id": "jHiJcWtLvmNR"
      },
      "execution_count": 63,
      "outputs": []
    },
    {
      "cell_type": "code",
      "source": [
        "#A:ATK E:DEF\n",
        "lista_OD=faz_status_OD(atq_a,pokemon_a,pokemon_e)\n",
        "if(atq_a[\"damage_class\"][\"name\"]==\"special\"):\n",
        "  EV_a=pokemon_atributos_a[id_a][\"EVs\"][\"Ataque especial\"]\n",
        "  IV_a=pokemon_atributos_a[id_a][\"IVs\"][\"Ataque especial\"]\n",
        "  EV_e=pokemon_atributos_e[id_e][\"EVs\"][\"Defesa especial\"]\n",
        "  IV_e=pokemon_atributos_e[id_e][\"IVs\"][\"Defesa especial\"]\n",
        "else:\n",
        "  EV_a=pokemon_atributos_a[id_a][\"EVs\"][\"Ataque\"]\n",
        "  IV_a=pokemon_atributos_a[id_a][\"IVs\"][\"Ataque\"]\n",
        "  EV_e=pokemon_atributos_e[id_e][\"EVs\"][\"Defesa\"]\n",
        "  IV_e=pokemon_atributos_e[id_e][\"IVs\"][\"Defesa\"]\n",
        "status_ofensivo_a=total_stats(lista_OD[0],EV_a,IV_a)\n",
        "status_defensivo_e=total_stats(lista_OD[1],EV_e,IV_e)\n"
      ],
      "metadata": {
        "id": "sq4m1SSkvv1Q"
      },
      "execution_count": 64,
      "outputs": []
    },
    {
      "cell_type": "code",
      "source": [
        "#E:ATK A:DEF\n",
        "lista_OD=faz_status_OD(atq_e,pokemon_e,pokemon_a)\n",
        "if(atq_e[\"damage_class\"][\"name\"]==\"special\"):\n",
        "  EV_e=pokemon_atributos_e[id_e][\"EVs\"][\"Ataque especial\"]\n",
        "  IV_e=pokemon_atributos_e[id_e][\"IVs\"][\"Ataque especial\"]\n",
        "  EV_a=pokemon_atributos_a[id_a][\"EVs\"][\"Defesa especial\"]\n",
        "  IV_a=pokemon_atributos_a[id_a][\"IVs\"][\"Defesa especial\"]\n",
        "else:\n",
        "  EV_e=pokemon_atributos_e[id_e][\"EVs\"][\"Ataque\"]\n",
        "  IV_e=pokemon_atributos_e[id_e][\"IVs\"][\"Ataque\"]\n",
        "  EV_a=pokemon_atributos_a[id_a][\"EVs\"][\"Defesa\"]\n",
        "  IV_a=pokemon_atributos_a[id_a][\"IVs\"][\"Defesa\"]\n",
        "status_ofensivo_e=total_stats(lista_OD[0],EV_e,IV_e)\n",
        "status_defensivo_a=total_stats(lista_OD[1],EV_a,IV_a)\n"
      ],
      "metadata": {
        "id": "X3Tlu8elIjZ7"
      },
      "execution_count": 65,
      "outputs": []
    },
    {
      "cell_type": "code",
      "source": [
        "vitoria=chama_COMBATE(pokemon_a,pokemon_e,atq_a,atq_e,status_ofensivo_a,status_ofensivo_e,status_defensivo_a,status_defensivo_e,velocidade_a,velocidade_e)"
      ],
      "metadata": {
        "id": "V-lOJYzff3Ce"
      },
      "execution_count": 99,
      "outputs": []
    },
    {
      "cell_type": "code",
      "source": [
        "chance=vitoria/TESTE\n",
        "if(chance==0):\n",
        "  print(\"Nenhuma chance de sucesso! Troque imediatamente!\")\n",
        "elif(chance<0.40):\n",
        "  print(\"chance de sucesso:\",str(chance*100)+\"%. Troque imediatamente!\")\n",
        "elif(chance<0.60):\n",
        "  print(\"chance de sucesso:\",str(chance*100)+\"%. Considere fortemente trocar!\")\n",
        "elif(chance<0.70):\n",
        "  print(\"chance de sucesso:\",str(chance*100)+\"%. Trocar é uma consideração!\")\n",
        "elif(chance<1.0):\n",
        "  print(\"chance de sucesso:\",str(chance*100)+\"%. Fica!\")\n",
        "elif(chance==1.0):\n",
        "  print(\"A vitoria é certa!\")"
      ],
      "metadata": {
        "colab": {
          "base_uri": "https://localhost:8080/"
        },
        "id": "2MSYBemjvwD9",
        "outputId": "c3f4414e-3baa-4ded-da62-feceb98b2963"
      },
      "execution_count": 100,
      "outputs": [
        {
          "output_type": "stream",
          "name": "stdout",
          "text": [
            "chance de sucesso: 49.855%. Considere fortemente trocar!\n"
          ]
        }
      ]
    },
    {
      "cell_type": "code",
      "source": [
        "print(atq_a[\"name\"])\n",
        "print(atq_e[\"name\"])"
      ],
      "metadata": {
        "id": "69i7Mp-U2mSO"
      },
      "execution_count": null,
      "outputs": []
    },
    {
      "cell_type": "markdown",
      "source": [
        "# UNIVERSO VS UNIVERSO"
      ],
      "metadata": {
        "id": "jBFqsFhWFSWI"
      }
    },
    {
      "cell_type": "code",
      "source": [
        "pokemon_a=cria_poke(ALIADO)\n",
        "id_a=pega_id(pokemon_a)"
      ],
      "metadata": {
        "id": "xjZjeoyKBP6c"
      },
      "execution_count": null,
      "outputs": []
    },
    {
      "cell_type": "code",
      "source": [
        "pokemon_e=cria_poke(INIMIGO)\n",
        "id_e=pega_id(pokemon_e)"
      ],
      "metadata": {
        "id": "FuzrneC0BP9G"
      },
      "execution_count": null,
      "outputs": []
    },
    {
      "cell_type": "code",
      "source": [
        "atq_a=universo_move(id_a,pokemon_a,pokemon_e)"
      ],
      "metadata": {
        "id": "pMKQNV1PAOfv"
      },
      "execution_count": 104,
      "outputs": []
    },
    {
      "cell_type": "code",
      "source": [
        "atq_e=universo_move(id_e,pokemon_e,pokemon_a)"
      ],
      "metadata": {
        "id": "NIi-joiqA3C5"
      },
      "execution_count": 105,
      "outputs": []
    },
    {
      "cell_type": "code",
      "source": [
        "#A:ATK E:DEF\n",
        "velocidade_a=total_stats(pokemon_a[\"atributos\"][\"Velocidade\"])\n",
        "lista_OD=faz_status_OD(atq_a,pokemon_a,pokemon_e)\n",
        "status_ofensivo_a=total_stats(lista_OD[0])\n",
        "status_defensivo_e=total_stats(lista_OD[1])"
      ],
      "metadata": {
        "id": "_6_YS-qdE8FC"
      },
      "execution_count": 106,
      "outputs": []
    },
    {
      "cell_type": "code",
      "source": [
        "#E:ATK A:DEF\n",
        "velocidade_e=total_stats(pokemon_e[\"atributos\"][\"Velocidade\"])\n",
        "lista_OD=faz_status_OD(atq_e,pokemon_e,pokemon_a)\n",
        "status_ofensivo_e=total_stats(lista_OD[0])\n",
        "status_defensivo_a=total_stats(lista_OD[1])"
      ],
      "metadata": {
        "id": "8XK5V0P9E_mx"
      },
      "execution_count": 107,
      "outputs": []
    },
    {
      "cell_type": "code",
      "source": [
        "vitoria=chama_COMBATE(pokemon_a,pokemon_e,atq_a,atq_e,status_ofensivo_a,status_ofensivo_e,status_defensivo_a,status_defensivo_e,velocidade_a,velocidade_e)"
      ],
      "metadata": {
        "id": "Fa-pK4rObl4T"
      },
      "execution_count": 108,
      "outputs": []
    },
    {
      "cell_type": "code",
      "source": [
        "chance=vitoria/TESTE\n",
        "if(chance==0):\n",
        "  print(\"Nenhuma chance de sucesso! Troque imediatamente!\")\n",
        "elif(chance<0.40):\n",
        "  print(\"chance de sucesso:\",str(chance*100)+\"%. Troque imediatamente!\")\n",
        "elif(chance<0.60):\n",
        "  print(\"chance de sucesso:\",str(chance*100)+\"%. Considere fortemente trocar!\")\n",
        "elif(chance<0.70):\n",
        "  print(\"chance de sucesso:\",str(chance*100)+\"%. Trocar é uma consideração!\")\n",
        "elif(chance<1.0):\n",
        "  print(\"chance de sucesso:\",str(chance*100)+\"%. Fique!\")\n",
        "elif(chance==1.0):\n",
        "  print(\"A vitoria é certa!\")\n",
        "# print(atq_a[\"name\"])\n",
        "# print(atq_e[\"name\"])"
      ],
      "metadata": {
        "id": "mojF3YUAe2LT"
      },
      "execution_count": null,
      "outputs": []
    },
    {
      "cell_type": "markdown",
      "source": [
        "# MULTIVERSO"
      ],
      "metadata": {
        "id": "-vu5zhfV8j3V"
      }
    },
    {
      "cell_type": "code",
      "source": [
        "pokemon_e=cria_poke(INIMIGO)\n",
        "id_e=pega_id(pokemon_e)\n",
        "pokemon_a=abre_json(\"time.json\")\n",
        "pokemon_atributos_a=abre_json(\"atqs.json\")\n",
        "maior_vit=-1"
      ],
      "metadata": {
        "id": "dCqR4PZa8YhQ"
      },
      "execution_count": null,
      "outputs": []
    },
    {
      "cell_type": "code",
      "source": [
        "for id_a in pokemon_a:\n",
        "  atq_a=faz_relogio(pokemon_atributos_a[id_a],pokemon_atributos_a[id_a],pokemon_a[id_a],pokemon_e)\n",
        "  atq_e=universo_move(id_e,pokemon_e,pokemon_a[id_a])\n",
        "  lista_OD=faz_status_OD(atq_a,pokemon_a[id_a],pokemon_e)\n",
        "  status_ofensivo_a=total_stats(lista_OD[0])\n",
        "  status_defensivo_e=total_stats(lista_OD[1])\n",
        "  lista_OD=faz_status_OD(atq_e,pokemon_e,pokemon_a[id_a])\n",
        "  status_ofensivo_e=total_stats(lista_OD[0])\n",
        "  status_defensivo_a=total_stats(lista_OD[1])\n",
        "  vitoria=chama_COMBATE(pokemon_a[id_a],pokemon_e,atq_a,atq_e,status_ofensivo_a,status_ofensivo_e,status_defensivo_a,status_defensivo_e,velocidade_a,velocidade_e)\n",
        "  if vitoria/TESTE>maior_vit:\n",
        "    maior_vit=vitoria/TESTE\n",
        "    maior_poke=pokemon_a[id_a]\n",
        "    maior_atq=atq_a[\"name\"]"
      ],
      "metadata": {
        "id": "4uQf-V-ML9bi"
      },
      "execution_count": 111,
      "outputs": []
    },
    {
      "cell_type": "code",
      "source": [
        "maior_atq=maior_atq.replace(\"-\",\" \").upper()\n",
        "print(maior_poke[\"Nome\"])\n",
        "print(maior_atq)\n",
        "print(\"Chances de vitoria:\",maior_vit*100,\"%\")"
      ],
      "metadata": {
        "id": "U3hpjLP0L9d8"
      },
      "execution_count": null,
      "outputs": []
    },
    {
      "cell_type": "markdown",
      "source": [
        "# RED VS BLUE"
      ],
      "metadata": {
        "id": "6K5KD-Muq1Sg"
      }
    },
    {
      "cell_type": "code",
      "source": [
        "pokemon_a=abre_json(\"time.json\")\n",
        "pokemon_e=abre_json(\"time2.json\")\n",
        "pokemon_atributos_a=abre_json(\"atqs.json\")\n",
        "pokemon_atributos_e=abre_json(\"atqs2.json\")"
      ],
      "metadata": {
        "id": "pRXkh4vxS1hI"
      },
      "execution_count": 113,
      "outputs": []
    },
    {
      "cell_type": "code",
      "source": [
        "vida_time_a={}\n",
        "vida_time_e={}\n",
        "for t in pokemon_a:\n",
        "  vida_time_a[t]=total_vida(pokemon_a[t])\n",
        "for t in pokemon_e:\n",
        "  vida_time_e[t]=total_vida(pokemon_e[t])\n",
        "poke_atual_a=pokemon_a[escolhe_aleatorio(pokemon_a)]\n",
        "poke_atual_e=pokemon_e[escolhe_aleatorio(pokemon_e)]\n",
        "cont=0"
      ],
      "metadata": {
        "id": "-V0ve3_hxVV8"
      },
      "execution_count": 114,
      "outputs": []
    },
    {
      "cell_type": "code",
      "source": [
        "print(poke_atual_a[\"Nome\"],\"!\")\n",
        "print(poke_atual_e[\"Nome\"],\"!\")\n",
        "while len(vida_time_a)>0 and len(vida_time_e)>0:\n",
        "  cont+=1\n",
        "  print(\"TURNO\",cont,\"!\")\n",
        "  velocidade_a=total_stats(poke_atual_a[\"atributos\"][\"Velocidade\"])\n",
        "  velocidade_e=total_stats(poke_atual_e[\"atributos\"][\"Velocidade\"])\n",
        "  troca_a=troca_ou_fica(pokemon_a,pokemon_atributos_a,pokemon_atributos_e,poke_atual_a,poke_atual_e,vida_time_a,vida_time_e[str(pega_id(poke_atual_e))])\n",
        "  troca_e=troca_ou_fica(pokemon_e,pokemon_atributos_e,pokemon_atributos_a,poke_atual_e,poke_atual_a,vida_time_e,vida_time_a[str(pega_id(poke_atual_a))])\n",
        "  if(velocidade_a>velocidade_e):\n",
        "    if(troca_a[0]==True):\n",
        "      print(\"Sai\",poke_atual_a[\"Nome\"],\"-A\",)\n",
        "      poke_atual_a=troca_a[1]\n",
        "      print(\"Entra\",poke_atual_a[\"Nome\"],\"-A\",)\n",
        "    if(troca_e[0]==True):\n",
        "      print(\"Sai\",poke_atual_e[\"Nome\"],\"-E\",)\n",
        "      poke_atual_e=troca_e[1]\n",
        "      print(\"Entra\",poke_atual_e[\"Nome\"],\"-E\",)\n",
        "    if(troca_a[0]==False):\n",
        "      dano=chama_atq(troca_a[2],poke_atual_a,poke_atual_e)\n",
        "      vida_time_e[str(pega_id(poke_atual_e))]-=dano\n",
        "      print(poke_atual_a[\"Nome\"],\"usa\",troca_a[2][\"name\"],\"em\",poke_atual_e[\"Nome\"],\"A->E\")\n",
        "      if(vida_time_e[str(pega_id(poke_atual_e))]<=0):\n",
        "        vida_time_e.pop(str(pega_id(poke_atual_e)))\n",
        "        pokemon_e.pop(str(pega_id(poke_atual_e)))\n",
        "        pokemon_atributos_e.pop(str(pega_id(poke_atual_e)))\n",
        "        if(len(vida_time_e)==0):\n",
        "          break\n",
        "        poke_atual_e=chama_chama_combate2(pokemon_atributos_e,pokemon_atributos_a,pokemon_e,poke_atual_a,vida_time_e,vida_time_a)\n",
        "        print(\"Entra\",poke_atual_e[\"Nome\"],\"-E\")\n",
        "        continue\n",
        "    if(troca_e[0]==False):\n",
        "      dano=chama_atq(troca_e[2],poke_atual_e,poke_atual_a)\n",
        "      vida_time_a[str(pega_id(poke_atual_a))]-=dano\n",
        "      print(poke_atual_e[\"Nome\"],\"usa\",troca_e[2][\"name\"],\"em\",poke_atual_a[\"Nome\"],\"E->A\")\n",
        "      if(vida_time_a[str(pega_id(poke_atual_a))]<=0):\n",
        "        vida_time_a.pop(str(pega_id(poke_atual_a)))\n",
        "        pokemon_a.pop(str(pega_id(poke_atual_a)))\n",
        "        pokemon_atributos_a.pop(str(pega_id(poke_atual_a)))\n",
        "        if(len(vida_time_a)==0):\n",
        "          break\n",
        "        poke_atual_a=chama_chama_combate2(pokemon_atributos_a,pokemon_atributos_e,pokemon_a,poke_atual_e,vida_time_a,vida_time_e)\n",
        "        print(\"Entra\",poke_atual_a[\"Nome\"],\"-A\")\n",
        "        continue\n",
        "  elif(velocidade_e>velocidade_a):\n",
        "    if(troca_e[0]==True):\n",
        "      print(\"Sai\",poke_atual_e[\"Nome\"],\"-E\",)\n",
        "      poke_atual_e=troca_e[1]\n",
        "      print(\"Entra\",poke_atual_e[\"Nome\"],\"-E\",)\n",
        "    if(troca_a[0]==True):\n",
        "      print(\"Sai\",poke_atual_a[\"Nome\"],\"-A\",)\n",
        "      poke_atual_a=troca_a[1]\n",
        "      print(\"Entra\",poke_atual_a[\"Nome\"],\"-A\",)\n",
        "    if(troca_e[0]==False):\n",
        "      dano=chama_atq(troca_e[2],poke_atual_e,poke_atual_a)\n",
        "      vida_time_a[str(pega_id(poke_atual_a))]-=dano\n",
        "      print(poke_atual_e[\"Nome\"],\"usa\",troca_e[2][\"name\"],\"em\",poke_atual_a[\"Nome\"],\"E->A\")\n",
        "      if(vida_time_a[str(pega_id(poke_atual_a))]<=0):\n",
        "        vida_time_a.pop(str(pega_id(poke_atual_a)))\n",
        "        pokemon_a.pop(str(pega_id(poke_atual_a)))\n",
        "        pokemon_atributos_a.pop(str(pega_id(poke_atual_a)))\n",
        "        if(len(vida_time_a)==0):\n",
        "          break\n",
        "        poke_atual_a=chama_chama_combate2(pokemon_atributos_a,pokemon_atributos_e,pokemon_a,poke_atual_e,vida_time_a,vida_time_e)\n",
        "        print(\"Entra\",poke_atual_a[\"Nome\"],\"-A\")\n",
        "        continue\n",
        "    if(troca_a[0]==False):\n",
        "      dano=chama_atq(troca_a[2],poke_atual_a,poke_atual_e)\n",
        "      vida_time_e[str(pega_id(poke_atual_e))]-=dano\n",
        "      print(poke_atual_a[\"Nome\"],\"usa\",troca_a[2][\"name\"],\"em\",poke_atual_e[\"Nome\"],\"A->E\")\n",
        "      if(vida_time_e[str(pega_id(poke_atual_e))]<=0):\n",
        "        vida_time_e.pop(str(pega_id(poke_atual_e)))\n",
        "        pokemon_e.pop(str(pega_id(poke_atual_e)))\n",
        "        pokemon_atributos_e.pop(str(pega_id(poke_atual_e)))\n",
        "        if(len(vida_time_e)==0):\n",
        "          break\n",
        "        poke_atual_e=chama_chama_combate2(pokemon_atributos_e,pokemon_atributos_a,pokemon_e,poke_atual_a,vida_time_e,vida_time_a)\n",
        "        print(\"Entra\",poke_atual_e[\"Nome\"],\"-E\")\n",
        "        continue\n",
        "  elif(velocidade_e==velocidade_a):\n",
        "    empate=random.randrange(1,3)\n",
        "    if(empate==1):\n",
        "      if(troca_a[0]==True):\n",
        "        print(\"Sai\",poke_atual_a[\"Nome\"],\"-A\",)\n",
        "        poke_atual_a=troca_a[1]\n",
        "        print(\"Entra\",poke_atual_a[\"Nome\"],\"-A\",)\n",
        "      if(troca_e[0]==True):\n",
        "        print(\"Sai\",poke_atual_e[\"Nome\"],\"-E\",)\n",
        "        poke_atual_e=troca_e[1]\n",
        "        print(\"Entra\",poke_atual_e[\"Nome\"],\"-E\",)\n",
        "    if(troca_a[0]==False):\n",
        "      dano=chama_atq(troca_a[2],poke_atual_a,poke_atual_e)\n",
        "      vida_time_e[str(pega_id(poke_atual_e))]-=dano\n",
        "      print(poke_atual_a[\"Nome\"],\"usa\",troca_a[2][\"name\"],\"em\",poke_atual_e[\"Nome\"],\"A->E\")\n",
        "      if(vida_time_e[str(pega_id(poke_atual_e))]<=0):\n",
        "        vida_time_e.pop(str(pega_id(poke_atual_e)))\n",
        "        pokemon_e.pop(str(pega_id(poke_atual_e)))\n",
        "        pokemon_atributos_e.pop(str(pega_id(poke_atual_e)))\n",
        "        if(len(vida_time_e)==0):\n",
        "            break\n",
        "        poke_atual_e=chama_chama_combate2(pokemon_atributos_e,pokemon_atributos_a,pokemon_e,poke_atual_a,vida_time_e,vida_time_a)\n",
        "        print(\"Entra\",poke_atual_e[\"Nome\"],\"-E\")\n",
        "        continue\n",
        "    if(troca_e[0]==False):\n",
        "      dano=chama_atq(troca_e[2],poke_atual_e,poke_atual_a)\n",
        "      vida_time_a[str(pega_id(poke_atual_a))]-=dano\n",
        "      print(poke_atual_e[\"Nome\"],\"usa\",troca_e[2][\"name\"],\"em\",poke_atual_a[\"Nome\"],\"E->A\")\n",
        "      if(vida_time_a[str(pega_id(poke_atual_a))]<=0):\n",
        "        vida_time_a.pop(str(pega_id(poke_atual_a)))\n",
        "        pokemon_a.pop(str(pega_id(poke_atual_a)))\n",
        "        pokemon_atributos_a.pop(str(pega_id(poke_atual_a)))\n",
        "        if(len(vida_time_a)==0):\n",
        "          break\n",
        "        poke_atual_a=chama_chama_combate2(pokemon_atributos_a,pokemon_atributos_e,pokemon_a,poke_atual_e,vida_time_a,vida_time_e)\n",
        "        print(\"Entra\",poke_atual_a[\"Nome\"],\"-A\")\n",
        "        continue\n",
        "    else:\n",
        "      if(troca_e[0]==True):\n",
        "        print(\"Sai\",poke_atual_e[\"Nome\"],\"-E\",)\n",
        "        poke_atual_e=troca_e[1]\n",
        "        print(\"Entra\",poke_atual_e[\"Nome\"],\"-E\",)\n",
        "      if(troca_a[0]==True):\n",
        "        print(\"Sai\",poke_atual_a[\"Nome\"],\"-A\",)\n",
        "        poke_atual_a=troca_a[1]\n",
        "        print(\"Entra\",poke_atual_a[\"Nome\"],\"-A\",)\n",
        "    if(troca_e[0]==False):\n",
        "      dano=chama_atq(troca_e[2],poke_atual_e,poke_atual_a)\n",
        "      vida_time_a[str(pega_id(poke_atual_a))]-=dano\n",
        "      print(poke_atual_e[\"Nome\"],\"usa\",troca_e[2][\"name\"],\"em\",poke_atual_a[\"Nome\"],\"E->A\")\n",
        "      if(vida_time_a[str(pega_id(poke_atual_a))]<=0):\n",
        "        vida_time_a.pop(str(pega_id(poke_atual_a)))\n",
        "        pokemon_a.pop(str(pega_id(poke_atual_a)))\n",
        "        pokemon_atributos_a.pop(str(pega_id(poke_atual_a)))\n",
        "        if(len(vida_time_a)==0):\n",
        "          break\n",
        "        poke_atual_a=chama_chama_combate2(pokemon_atributos_a,pokemon_atributos_e,pokemon_a,poke_atual_e,vida_time_a,vida_time_e)\n",
        "        print(\"Entra\",poke_atual_a[\"Nome\"],\"-A\")\n",
        "        continue\n",
        "    if(troca_a[0]==False):\n",
        "      dano=chama_atq(troca_e[2],poke_atual_e,poke_atual_a)\n",
        "      vida_time_a[str(pega_id(poke_atual_a))]-=dano\n",
        "      print(poke_atual_a[\"Nome\"],\"usa\",troca_a[2][\"name\"],\"em\",poke_atual_e[\"Nome\"],\"E->A\")\n",
        "      if(vida_time_a[str(pega_id(poke_atual_a))]<=0):\n",
        "        vida_time_e.pop(str(pega_id(poke_atual_e)))\n",
        "        pokemon_e.pop(str(pega_id(poke_atual_e)))\n",
        "        pokemon_atributos_e.pop(str(pega_id(poke_atual_e)))\n",
        "        if(len(vida_time_e)==0):\n",
        "          break\n",
        "        poke_atual_e=chama_chama_combate2(pokemon_atributos_e,pokemon_atributos_a,pokemon_e,poke_atual_a,vida_time_e,vida_time_a)\n",
        "        print(\"Entra\",poke_atual_e[\"Nome\"],\"-E\")\n",
        "        continue"
      ],
      "metadata": {
        "id": "2I_5VEoGgVCQ"
      },
      "execution_count": null,
      "outputs": []
    },
    {
      "cell_type": "code",
      "source": [
        "if(len(pokemon_a)>len(pokemon_e)):\n",
        "  print(\"Red venceu\")\n",
        "else:\n",
        "  print(\"Blue venceu\")"
      ],
      "metadata": {
        "id": "BlbtreSABR_M"
      },
      "execution_count": null,
      "outputs": []
    },
    {
      "cell_type": "code",
      "source": [
        "vitoria_a=0\n",
        "vitoria_e=0\n",
        "for tempo in range(5):\n",
        "  pokemon_a=abre_json(\"time.json\")\n",
        "  pokemon_e=abre_json(\"time2.json\")\n",
        "  pokemon_atributos_a=abre_json(\"atqs.json\")\n",
        "  pokemon_atributos_e=abre_json(\"atqs2.json\")\n",
        "  vida_time_a={}\n",
        "  for t in pokemon_a:\n",
        "    vida_time_a[t]=total_vida(pokemon_a[t])\n",
        "  vida_time_e={}\n",
        "  for t in pokemon_e:\n",
        "    vida_time_e[t]=total_vida(pokemon_e[t])\n",
        "  poke_atual_a=pokemon_a[escolhe_aleatorio(pokemon_a)]\n",
        "  poke_atual_e=pokemon_e[escolhe_aleatorio(pokemon_e)]\n",
        "  cont=0\n",
        "  print(poke_atual_a[\"Nome\"],\"!\")\n",
        "  print(poke_atual_e[\"Nome\"],\"!\")\n",
        "  while len(vida_time_a)>0 and len(vida_time_e)>0:\n",
        "    cont+=1\n",
        "    print(\"TURNO\",cont,\"!\")\n",
        "    velocidade_a=total_stats(poke_atual_a[\"atributos\"][\"Velocidade\"])\n",
        "    velocidade_e=total_stats(poke_atual_e[\"atributos\"][\"Velocidade\"])\n",
        "    troca_a=troca_ou_fica(pokemon_a,pokemon_atributos_a,pokemon_atributos_e,poke_atual_a,poke_atual_e,vida_time_a,vida_time_e[str(pega_id(poke_atual_e))])\n",
        "    troca_e=troca_ou_fica(pokemon_e,pokemon_atributos_e,pokemon_atributos_a,poke_atual_e,poke_atual_a,vida_time_e,vida_time_a[str(pega_id(poke_atual_a))])\n",
        "    if(velocidade_a>velocidade_e):\n",
        "      if(troca_a[0]==True):\n",
        "        print(\"Sai\",poke_atual_a[\"Nome\"],\"-A\",)\n",
        "        poke_atual_a=troca_a[1]\n",
        "        print(\"Entra\",poke_atual_a[\"Nome\"],\"-A\",)\n",
        "      if(troca_e[0]==True):\n",
        "        print(\"Sai\",poke_atual_e[\"Nome\"],\"-E\",)\n",
        "        poke_atual_e=troca_e[1]\n",
        "        print(\"Entra\",poke_atual_e[\"Nome\"],\"-E\",)\n",
        "      if(troca_a[0]==False):\n",
        "        dano=chama_atq(troca_a[2],poke_atual_a,poke_atual_e)\n",
        "        vida_time_e[str(pega_id(poke_atual_e))]-=dano\n",
        "        print(poke_atual_a[\"Nome\"],\"usa\",troca_a[2][\"name\"],\"em\",poke_atual_e[\"Nome\"],\"A->E\")\n",
        "        if(vida_time_e[str(pega_id(poke_atual_e))]<=0):\n",
        "          vida_time_e.pop(str(pega_id(poke_atual_e)))\n",
        "          pokemon_e.pop(str(pega_id(poke_atual_e)))\n",
        "          pokemon_atributos_e.pop(str(pega_id(poke_atual_e)))\n",
        "          if(len(vida_time_e)==0):\n",
        "            break\n",
        "          poke_atual_e=chama_chama_combate2(pokemon_atributos_e,pokemon_atributos_a,pokemon_e,poke_atual_a,vida_time_e,vida_time_a)\n",
        "          print(\"Entra\",poke_atual_e[\"Nome\"],\"-E\")\n",
        "          continue\n",
        "      if(troca_e[0]==False):\n",
        "        dano=chama_atq(troca_e[2],poke_atual_e,poke_atual_a)\n",
        "        vida_time_a[str(pega_id(poke_atual_a))]-=dano\n",
        "        print(poke_atual_e[\"Nome\"],\"usa\",troca_e[2][\"name\"],\"em\",poke_atual_a[\"Nome\"],\"E->A\")\n",
        "        if(vida_time_a[str(pega_id(poke_atual_a))]<=0):\n",
        "          vida_time_a.pop(str(pega_id(poke_atual_a)))\n",
        "          pokemon_a.pop(str(pega_id(poke_atual_a)))\n",
        "          pokemon_atributos_a.pop(str(pega_id(poke_atual_a)))\n",
        "          if(len(vida_time_a)==0):\n",
        "            break\n",
        "          poke_atual_a=chama_chama_combate2(pokemon_atributos_a,pokemon_atributos_e,pokemon_a,poke_atual_e,vida_time_a,vida_time_e)\n",
        "          print(\"Entra\",poke_atual_a[\"Nome\"],\"-A\")\n",
        "          continue\n",
        "    elif(velocidade_e>velocidade_a):\n",
        "      if(troca_e[0]==True):\n",
        "        print(\"Sai\",poke_atual_e[\"Nome\"],\"-E\",)\n",
        "        poke_atual_e=troca_e[1]\n",
        "        print(\"Entra\",poke_atual_e[\"Nome\"],\"-E\",)\n",
        "      if(troca_a[0]==True):\n",
        "        print(\"Sai\",poke_atual_a[\"Nome\"],\"-A\",)\n",
        "        poke_atual_a=troca_a[1]\n",
        "        print(\"Entra\",poke_atual_a[\"Nome\"],\"-A\",)\n",
        "      if(troca_e[0]==False):\n",
        "        dano=chama_atq(troca_e[2],poke_atual_e,poke_atual_a)\n",
        "        vida_time_a[str(pega_id(poke_atual_a))]-=dano\n",
        "        print(poke_atual_e[\"Nome\"],\"usa\",troca_e[2][\"name\"],\"em\",poke_atual_a[\"Nome\"],\"E->A\")\n",
        "        if(vida_time_a[str(pega_id(poke_atual_a))]<=0):\n",
        "          vida_time_a.pop(str(pega_id(poke_atual_a)))\n",
        "          pokemon_a.pop(str(pega_id(poke_atual_a)))\n",
        "          pokemon_atributos_a.pop(str(pega_id(poke_atual_a)))\n",
        "          if(len(vida_time_a)==0):\n",
        "            break\n",
        "          poke_atual_a=chama_chama_combate2(pokemon_atributos_a,pokemon_atributos_e,pokemon_a,poke_atual_e,vida_time_a,vida_time_e)\n",
        "          print(\"Entra\",poke_atual_a[\"Nome\"],\"-A\")\n",
        "          continue\n",
        "      if(troca_a[0]==False):\n",
        "        dano=chama_atq(troca_a[2],poke_atual_a,poke_atual_e)\n",
        "        vida_time_e[str(pega_id(poke_atual_e))]-=dano\n",
        "        print(poke_atual_a[\"Nome\"],\"usa\",troca_a[2][\"name\"],\"em\",poke_atual_e[\"Nome\"],\"A->E\")\n",
        "        if(vida_time_e[str(pega_id(poke_atual_e))]<=0):\n",
        "          vida_time_e.pop(str(pega_id(poke_atual_e)))\n",
        "          pokemon_e.pop(str(pega_id(poke_atual_e)))\n",
        "          pokemon_atributos_e.pop(str(pega_id(poke_atual_e)))\n",
        "          if(len(vida_time_e)==0):\n",
        "            break\n",
        "          poke_atual_e=chama_chama_combate2(pokemon_atributos_e,pokemon_atributos_a,pokemon_e,poke_atual_a,vida_time_e,vida_time_a)\n",
        "          print(\"Entra\",poke_atual_e[\"Nome\"],\"-E\")\n",
        "          continue\n",
        "    elif(velocidade_e==velocidade_a):\n",
        "      empate=random.randrange(1,3)\n",
        "      if(empate==1):\n",
        "        if(troca_a[0]==True):\n",
        "          print(\"Sai\",poke_atual_a[\"Nome\"],\"-A\",)\n",
        "          poke_atual_a=troca_a[1]\n",
        "          print(\"Entra\",poke_atual_a[\"Nome\"],\"-A\",)\n",
        "        if(troca_e[0]==True):\n",
        "          print(\"Sai\",poke_atual_e[\"Nome\"],\"-E\",)\n",
        "          poke_atual_e=troca_e[1]\n",
        "          print(\"Entra\",poke_atual_e[\"Nome\"],\"-E\",)\n",
        "      if(troca_a[0]==False):\n",
        "        dano=chama_atq(troca_a[2],poke_atual_a,poke_atual_e)\n",
        "        vida_time_e[str(pega_id(poke_atual_e))]-=dano\n",
        "        print(poke_atual_a[\"Nome\"],\"usa\",troca_a[2][\"name\"],\"em\",poke_atual_e[\"Nome\"],\"A->E\")\n",
        "        if(vida_time_e[str(pega_id(poke_atual_e))]<=0):\n",
        "          vida_time_e.pop(str(pega_id(poke_atual_e)))\n",
        "          pokemon_e.pop(str(pega_id(poke_atual_e)))\n",
        "          pokemon_atributos_e.pop(str(pega_id(poke_atual_e)))\n",
        "          if(len(vida_time_e)==0):\n",
        "              break\n",
        "          poke_atual_e=chama_chama_combate2(pokemon_atributos_e,pokemon_atributos_a,pokemon_e,poke_atual_a,vida_time_e,vida_time_a)\n",
        "          print(\"Entra\",poke_atual_e[\"Nome\"],\"-E\")\n",
        "          continue\n",
        "      if(troca_e[0]==False):\n",
        "        dano=chama_atq(troca_e[2],poke_atual_e,poke_atual_a)\n",
        "        vida_time_a[str(pega_id(poke_atual_a))]-=dano\n",
        "        print(poke_atual_e[\"Nome\"],\"usa\",troca_e[2][\"name\"],\"em\",poke_atual_a[\"Nome\"],\"E->A\")\n",
        "        if(vida_time_a[str(pega_id(poke_atual_a))]<=0):\n",
        "          vida_time_a.pop(str(pega_id(poke_atual_a)))\n",
        "          pokemon_a.pop(str(pega_id(poke_atual_a)))\n",
        "          pokemon_atributos_a.pop(str(pega_id(poke_atual_a)))\n",
        "          if(len(vida_time_a)==0):\n",
        "            break\n",
        "          poke_atual_a=chama_chama_combate2(pokemon_atributos_a,pokemon_atributos_e,pokemon_a,poke_atual_e,vida_time_a,vida_time_e)\n",
        "          print(\"Entra\",poke_atual_a[\"Nome\"],\"-A\")\n",
        "          continue\n",
        "      else:\n",
        "        if(troca_e[0]==True):\n",
        "          print(\"Sai\",poke_atual_e[\"Nome\"],\"-E\",)\n",
        "          poke_atual_e=troca_e[1]\n",
        "          print(\"Entra\",poke_atual_e[\"Nome\"],\"-E\",)\n",
        "        if(troca_a[0]==True):\n",
        "          print(\"Sai\",poke_atual_a[\"Nome\"],\"-A\",)\n",
        "          poke_atual_a=troca_a[1]\n",
        "          print(\"Entra\",poke_atual_a[\"Nome\"],\"-A\",)\n",
        "      if(troca_e[0]==False):\n",
        "        dano=chama_atq(troca_e[2],poke_atual_e,poke_atual_a)\n",
        "        vida_time_a[str(pega_id(poke_atual_a))]-=dano\n",
        "        print(poke_atual_e[\"Nome\"],\"usa\",troca_e[2][\"name\"],\"em\",poke_atual_a[\"Nome\"],\"E->A\")\n",
        "        if(vida_time_a[str(pega_id(poke_atual_a))]<=0):\n",
        "          vida_time_a.pop(str(pega_id(poke_atual_a)))\n",
        "          pokemon_a.pop(str(pega_id(poke_atual_a)))\n",
        "          pokemon_atributos_a.pop(str(pega_id(poke_atual_a)))\n",
        "          if(len(vida_time_a)==0):\n",
        "            break\n",
        "          poke_atual_a=chama_chama_combate2(pokemon_atributos_a,pokemon_atributos_e,pokemon_a,poke_atual_e,vida_time_a,vida_time_e)\n",
        "          print(\"Entra\",poke_atual_a[\"Nome\"],\"-A\")\n",
        "          continue\n",
        "      if(troca_a[0]==False):\n",
        "        dano=chama_atq(troca_e[2],poke_atual_e,poke_atual_a)\n",
        "        vida_time_a[str(pega_id(poke_atual_a))]-=dano\n",
        "        print(poke_atual_a[\"Nome\"],\"usa\",troca_a[2][\"name\"],\"em\",poke_atual_e[\"Nome\"],\"E->A\")\n",
        "        if(vida_time_a[str(pega_id(poke_atual_a))]<=0):\n",
        "          vida_time_e.pop(str(pega_id(poke_atual_e)))\n",
        "          pokemon_e.pop(str(pega_id(poke_atual_e)))\n",
        "          pokemon_atributos_e.pop(str(pega_id(poke_atual_e)))\n",
        "          if(len(vida_time_e)==0):\n",
        "            break\n",
        "          poke_atual_e=chama_chama_combate2(pokemon_atributos_e,pokemon_atributos_a,pokemon_e,poke_atual_a,vida_time_e,vida_time_a)\n",
        "          print(\"Entra\",poke_atual_e[\"Nome\"],\"-E\")\n",
        "          continue\n",
        "  if(len(pokemon_a)>len(pokemon_e)):\n",
        "    vitoria_a+=1\n",
        "  else:\n",
        "    vitoria_e+=1"
      ],
      "metadata": {
        "id": "_wXLig5mdwul"
      },
      "execution_count": null,
      "outputs": []
    },
    {
      "cell_type": "code",
      "source": [
        "if vitoria_a>vitoria_e:\n",
        "  print(\"Red venceu\")\n",
        "else:\n",
        "  print(\"Blue Venceu\")"
      ],
      "metadata": {
        "id": "WI_h0gZpfSt9"
      },
      "execution_count": null,
      "outputs": []
    }
  ],
  "metadata": {
    "colab": {
      "provenance": [],
      "collapsed_sections": [
        "bwTNGw1UH-Rt",
        "WJp-SYlhH3nq",
        "w0IhewBwHqDv",
        "14Zk5BI03e7M",
        "YVhW3_hrReUc",
        "ftOmXEQpR7IU",
        "DpRjL6g3pnUk",
        "jBFqsFhWFSWI",
        "-vu5zhfV8j3V"
      ]
    },
    "kernelspec": {
      "display_name": "Python 3",
      "name": "python3"
    },
    "language_info": {
      "name": "python"
    }
  },
  "nbformat": 4,
  "nbformat_minor": 0
}