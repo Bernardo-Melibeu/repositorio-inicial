{
 "cells": [
  {
   "cell_type": "code",
   "execution_count": 2,
   "metadata": {},
   "outputs": [],
   "source": [
    "import requests\n",
    "from bs4 import BeautifulSoup\n",
    "import json\n",
    "URL=\"https://www.cnnbrasil.com.br\"\n",
    "FILE_TYPE=\".json\""
   ]
  },
  {
   "cell_type": "code",
   "execution_count": 3,
   "metadata": {},
   "outputs": [],
   "source": [
    "def pede_e_cozinha(endereço):\n",
    "  response=requests.get(endereço).content\n",
    "  soup=BeautifulSoup(response, \"html.parser\")\n",
    "  return soup"
   ]
  },
  {
   "cell_type": "code",
   "execution_count": 4,
   "metadata": {},
   "outputs": [],
   "source": [
    "def grava_json(arquivo,file_name=\"dicio\"):\n",
    "  with open(file_name+FILE_TYPE,\"a\") as FILE:\n",
    "    json.dump(arquivo,FILE,indent=4)"
   ]
  },
  {
   "cell_type": "code",
   "execution_count": 5,
   "metadata": {},
   "outputs": [],
   "source": [
    "soup=pede_e_cozinha(URL)\n",
    "lista_link=[]\n",
    "lista_link=soup.find_all(\"a\")\n",
    "lista_final=[]\n",
    "dicio={}\n",
    "data_hora={}"
   ]
  },
  {
   "cell_type": "code",
   "execution_count": 6,
   "metadata": {},
   "outputs": [],
   "source": [
    "for i in lista_link:  \n",
    "  try:  \n",
    "    titulo=i[\"alt\"]\n",
    "    link=i[\"href\"]\n",
    "    categoria=link.split(\"/\")[3]\n",
    "    link=link.split(\"/\")[4]\n",
    "    soup=pede_e_cozinha(URL+\"/\"+categoria+\"/\"+link)\n",
    "    data_materia=soup.find(\"span\",class_=\"post__data\")#.text\n",
    "    for p in data_materia:\n",
    "      data_hora[\"Data\"]=p.text.split(\" às \")[0]\n",
    "      data_hora[\"Hora\"]=p.text.split(\" às \")[1]\n",
    "      data_hora[\"Hora\"]=data_hora[\"Hora\"].split(\" | \")[0]\n",
    "      if(\"Atualizado\" in p.text):\n",
    "        p=p.text.split(\"Atualizado \")[1]\n",
    "        data_hora[\"Atualizado dia\"]=p.split(\" às \")[0]\n",
    "        data_hora[\"Atualizado hora\"]=p.split(\" às \")[1]\n",
    "    autor=soup.find(\"span\",class_=\"author__group\")\n",
    "    tags=soup.find_all(\"li\", class_=\"tags__list__item\")\n",
    "    lista_tags=[]\n",
    "    for k in tags:\n",
    "      lista_tags.append(k.text)\n",
    "    lista_autores=[]\n",
    "    for l in autor:\n",
    "      if(\"da CNN\" not in l.text):\n",
    "        lista_autores.append(l.text)\n",
    "    dicio={link:{\"Titulo\":titulo,\"Data\":data_hora,\"Autor\":lista_autores,\"Categoria\":categoria,\"Tags\":lista_tags}}\n",
    "    lista_final.append(dicio)\n",
    "  except:\n",
    "    # print(\"IDIOTA\")\n",
    "    continue"
   ]
  },
  {
   "cell_type": "code",
   "execution_count": 7,
   "metadata": {},
   "outputs": [],
   "source": [
    "grava_json(lista_final)"
   ]
  }
 ],
 "metadata": {
  "kernelspec": {
   "display_name": "Python 3",
   "language": "python",
   "name": "python3"
  },
  "language_info": {
   "codemirror_mode": {
    "name": "ipython",
    "version": 3
   },
   "file_extension": ".py",
   "mimetype": "text/x-python",
   "name": "python",
   "nbconvert_exporter": "python",
   "pygments_lexer": "ipython3",
   "version": "3.11.2"
  },
  "orig_nbformat": 4
 },
 "nbformat": 4,
 "nbformat_minor": 2
}
